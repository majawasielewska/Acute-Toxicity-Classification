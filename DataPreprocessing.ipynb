{
 "cells": [
  {
   "cell_type": "code",
   "execution_count": 30,
   "id": "653a4dd1",
   "metadata": {},
   "outputs": [
    {
     "data": {
      "text/plain": [
       "\"\\nFile presents operations performed in order to preprocess data to use in Machine Learning (ML) algorithms.\\nDataset downloaded from: https://www.sciencedirect.com/science/article/pii/S014765132031575X#sec0085\\nThe most important variables from a sheet named 'Table S3' have been cut in Excel and collected into a file: 'aquatictoxicitytodaphniamagna_tables3.xlsx'\\n\""
      ]
     },
     "execution_count": 30,
     "metadata": {},
     "output_type": "execute_result"
    }
   ],
   "source": [
    "\"\"\"\n",
    "File presents operations performed in order to preprocess data to use in Machine Learning (ML) algorithms.\n",
    "Dataset downloaded from: https://www.sciencedirect.com/science/article/pii/S014765132031575X#sec0085\n",
    "The most important variables from a sheet named 'Table S3' have been cut in Excel and collected into a file: 'aquatictoxicitytodaphniamagna_tables3.xlsx'\n",
    "\"\"\""
   ]
  },
  {
   "cell_type": "code",
   "execution_count": 31,
   "id": "60df0dd0",
   "metadata": {},
   "outputs": [],
   "source": [
    "import pandas as pd"
   ]
  },
  {
   "cell_type": "code",
   "execution_count": 32,
   "id": "ff74386d",
   "metadata": {},
   "outputs": [],
   "source": [
    "# loading data\n",
    "data = pd.read_excel(r'C:\\Users\\HP\\Desktop\\Thesis\\aquatictoxicitytodaphniamagna_tables3.xlsx')"
   ]
  },
  {
   "cell_type": "code",
   "execution_count": 33,
   "id": "5ae55938",
   "metadata": {},
   "outputs": [],
   "source": [
    "# Renaming a column\n",
    "data.rename(columns={'Acute Toxicity Class [Observed]': 'Acute Toxicity Class'}, inplace=True)"
   ]
  },
  {
   "cell_type": "code",
   "execution_count": 34,
   "id": "18505977",
   "metadata": {},
   "outputs": [],
   "source": [
    "# Converting string notation of a categorical variable to numeric notation: 1 - Highly toxic, 0 - Low to non-toxic\n",
    "data['Acute Toxicity Class'].replace(['Highly toxic', 'Low to non-toxic'], [1, 0], inplace=True)"
   ]
  },
  {
   "cell_type": "code",
   "execution_count": 35,
   "id": "3ec92ef6",
   "metadata": {},
   "outputs": [
    {
     "data": {
      "text/html": [
       "<div>\n",
       "<style scoped>\n",
       "    .dataframe tbody tr th:only-of-type {\n",
       "        vertical-align: middle;\n",
       "    }\n",
       "\n",
       "    .dataframe tbody tr th {\n",
       "        vertical-align: top;\n",
       "    }\n",
       "\n",
       "    .dataframe thead th {\n",
       "        text-align: right;\n",
       "    }\n",
       "</style>\n",
       "<table border=\"1\" class=\"dataframe\">\n",
       "  <thead>\n",
       "    <tr style=\"text-align: right;\">\n",
       "      <th></th>\n",
       "      <th>CAS No.</th>\n",
       "      <th>Chemical Name</th>\n",
       "      <th>Set*</th>\n",
       "      <th>Acute Toxicity Class</th>\n",
       "      <th>MLOGP</th>\n",
       "      <th>η</th>\n",
       "      <th>Me</th>\n",
       "      <th>Ad</th>\n",
       "      <th>nBT</th>\n",
       "      <th>Hy</th>\n",
       "    </tr>\n",
       "  </thead>\n",
       "  <tbody>\n",
       "    <tr>\n",
       "      <th>0</th>\n",
       "      <td>79947</td>\n",
       "      <td>2,2',6,6'-tetrabromo-4,4'-isopropylidenediphenol</td>\n",
       "      <td>T</td>\n",
       "      <td>1</td>\n",
       "      <td>5.254741</td>\n",
       "      <td>4.2730</td>\n",
       "      <td>1.019388</td>\n",
       "      <td>40.331585</td>\n",
       "      <td>34</td>\n",
       "      <td>0.377820</td>\n",
       "    </tr>\n",
       "    <tr>\n",
       "      <th>1</th>\n",
       "      <td>80513</td>\n",
       "      <td>4,4'-Oxybis(benzenesulfonylhydrazide)</td>\n",
       "      <td>T</td>\n",
       "      <td>1</td>\n",
       "      <td>0.541578</td>\n",
       "      <td>4.3525</td>\n",
       "      <td>1.043635</td>\n",
       "      <td>34.491819</td>\n",
       "      <td>38</td>\n",
       "      <td>3.794549</td>\n",
       "    </tr>\n",
       "    <tr>\n",
       "      <th>2</th>\n",
       "      <td>84695</td>\n",
       "      <td>Diisobutyl phthalate</td>\n",
       "      <td>T</td>\n",
       "      <td>1</td>\n",
       "      <td>3.618006</td>\n",
       "      <td>4.7875</td>\n",
       "      <td>1.000686</td>\n",
       "      <td>30.661281</td>\n",
       "      <td>42</td>\n",
       "      <td>-0.787180</td>\n",
       "    </tr>\n",
       "    <tr>\n",
       "      <th>3</th>\n",
       "      <td>84742</td>\n",
       "      <td>Dibutyl phthalate</td>\n",
       "      <td>T</td>\n",
       "      <td>1</td>\n",
       "      <td>3.618006</td>\n",
       "      <td>4.7445</td>\n",
       "      <td>1.000686</td>\n",
       "      <td>30.809815</td>\n",
       "      <td>42</td>\n",
       "      <td>-0.787180</td>\n",
       "    </tr>\n",
       "    <tr>\n",
       "      <th>4</th>\n",
       "      <td>88857</td>\n",
       "      <td>Phenol, 2-(1-methylpropyl)-4,6-dinitro-</td>\n",
       "      <td>T</td>\n",
       "      <td>1</td>\n",
       "      <td>2.702104</td>\n",
       "      <td>4.3735</td>\n",
       "      <td>1.043383</td>\n",
       "      <td>23.103198</td>\n",
       "      <td>29</td>\n",
       "      <td>-0.082871</td>\n",
       "    </tr>\n",
       "  </tbody>\n",
       "</table>\n",
       "</div>"
      ],
      "text/plain": [
       "   CAS No.                                     Chemical Name Set*  \\\n",
       "0    79947  2,2',6,6'-tetrabromo-4,4'-isopropylidenediphenol    T   \n",
       "1    80513             4,4'-Oxybis(benzenesulfonylhydrazide)    T   \n",
       "2    84695                              Diisobutyl phthalate    T   \n",
       "3    84742                                 Dibutyl phthalate    T   \n",
       "4    88857           Phenol, 2-(1-methylpropyl)-4,6-dinitro-    T   \n",
       "\n",
       "   Acute Toxicity Class     MLOGP       η        Me         Ad  nBT        Hy  \n",
       "0                     1  5.254741  4.2730  1.019388  40.331585   34  0.377820  \n",
       "1                     1  0.541578  4.3525  1.043635  34.491819   38  3.794549  \n",
       "2                     1  3.618006  4.7875  1.000686  30.661281   42 -0.787180  \n",
       "3                     1  3.618006  4.7445  1.000686  30.809815   42 -0.787180  \n",
       "4                     1  2.702104  4.3735  1.043383  23.103198   29 -0.082871  "
      ]
     },
     "execution_count": 35,
     "metadata": {},
     "output_type": "execute_result"
    }
   ],
   "source": [
    "data.head()"
   ]
  },
  {
   "cell_type": "code",
   "execution_count": 36,
   "id": "819b7a8f",
   "metadata": {},
   "outputs": [],
   "source": [
    "# Saving the file to excel format\n",
    "data.to_excel('aquatictoxicitytodaphniamagna.xlsx')  "
   ]
  }
 ],
 "metadata": {
  "kernelspec": {
   "display_name": "Python 3 (ipykernel)",
   "language": "python",
   "name": "python3"
  },
  "language_info": {
   "codemirror_mode": {
    "name": "ipython",
    "version": 3
   },
   "file_extension": ".py",
   "mimetype": "text/x-python",
   "name": "python",
   "nbconvert_exporter": "python",
   "pygments_lexer": "ipython3",
   "version": "3.9.13"
  }
 },
 "nbformat": 4,
 "nbformat_minor": 5
}
